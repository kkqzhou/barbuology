{
 "cells": [
  {
   "cell_type": "code",
   "execution_count": 2,
   "metadata": {},
   "outputs": [],
   "source": [
    "import numpy as np\n",
    "\n",
    "SUIT_STR = {'D': '♢', 'C': '♣', 'S': '♠', 'H': '♡'}\n",
    "SUIT_TO_SUIT_ID = {'C':0, 'D':1, 'S':2, 'H':3}\n",
    "SUIT_STR_TO_SUIT_ID = {'♣': 0, '♢': 1, '♠': 2, '♡': 3}\n",
    "SUIT_ID_TO_SUIT_STR = {y:x for (x,y) in SUIT_STR_TO_SUIT_ID.items()}\n",
    "NUMBER_STR_TO_NUMBER_ID = {'2':0, '3':1, '4':2, '5':3, '6':4, '7':5, '8':6, '9':7, 'T':8, 'J':9, 'Q':10, 'K':11, 'A':12}\n",
    "NUMBER_ID_TO_NUMBER_STR = {y:x for (x,y) in NUMBER_STR_TO_NUMBER_ID.items()}\n",
    "CARDS = set(range(52))"
   ]
  },
  {
   "cell_type": "code",
   "execution_count": 3,
   "metadata": {},
   "outputs": [
    {
     "name": "stdout",
     "output_type": "stream",
     "text": [
      "['♣3', '♣7', '♣8', '♣9', '♣Q', '♢4', '♢J', '♠T', '♠K', '♡4', '♡9', '♡Q', '♡K']\n",
      "['♣2', '♣4', '♣5', '♣6', '♣T', '♣J', '♣K', '♣A', '♢2', '♢3', '♢5', '♢6', '♢7', '♢8', '♢9', '♢T', '♢Q', '♢K', '♢A', '♠2', '♠3', '♠4', '♠5', '♠6', '♠7', '♠8', '♠9', '♠J', '♠Q', '♠A', '♡2', '♡3', '♡5', '♡6', '♡7', '♡8', '♡T', '♡J', '♡A']\n"
     ]
    }
   ],
   "source": [
    "def print_hand(hand):\n",
    "    print([SUIT_ID_TO_SUIT_STR[x // 13] + NUMBER_ID_TO_NUMBER_STR[x % 13] for x in sorted(hand)])\n",
    "    \n",
    "hand = {1,5,6,7,10,15,22,34,37,41,46,49,50}\n",
    "other_cards = CARDS.difference(hand)\n",
    "print_hand(hand)\n",
    "print_hand(other_cards)"
   ]
  },
  {
   "cell_type": "code",
   "execution_count": 17,
   "metadata": {},
   "outputs": [
    {
     "data": {
      "text/plain": [
       "[[42, 4, 8, 19, 2, 24, 51, 25, 14, 40, 12, 17, 11],\n",
       " [34, 7, 48, 41, 31, 43, 3, 47, 33, 29, 21, 44, 18],\n",
       " [15, 22, 27, 5, 49, 23, 26, 32, 9, 28, 20, 38, 46],\n",
       " [36, 10, 1, 30, 13, 35, 39, 0, 37, 45, 50, 16, 6]]"
      ]
     },
     "execution_count": 17,
     "metadata": {},
     "output_type": "execute_result"
    }
   ],
   "source": [
    "def deal_others(hand):\n",
    "    hands = [list(hand)]\n",
    "    other_cards = list(CARDS.difference(hand))\n",
    "    perm = np.random.permutation(39)\n",
    "    for i in range(3):\n",
    "        other_hand = []\n",
    "        for j in range(13):\n",
    "            other_hand.append(other_cards[perm[j + i*13]])\n",
    "            \n",
    "        hands.append(other_hand)\n",
    "    return hands\n",
    "\n",
    "hands = deal_others(hand)\n",
    "hands"
   ]
  },
  {
   "cell_type": "code",
   "execution_count": 18,
   "metadata": {},
   "outputs": [
    {
     "name": "stdout",
     "output_type": "stream",
     "text": [
      "['♣4', '♣6', '♣T', '♣K', '♣A', '♢3', '♢6', '♢8', '♢K', '♢A', '♡3', '♡5', '♡A']\n",
      "['♣5', '♣9', '♢7', '♢T', '♠5', '♠7', '♠9', '♠T', '♡4', '♡6', '♡7', '♡T', '♡J']\n",
      "['♣7', '♣J', '♢4', '♢9', '♢J', '♢Q', '♠2', '♠3', '♠4', '♠8', '♠A', '♡9', '♡Q']\n",
      "['♣2', '♣3', '♣8', '♣Q', '♢2', '♢5', '♠6', '♠J', '♠Q', '♠K', '♡2', '♡8', '♡K']\n"
     ]
    }
   ],
   "source": [
    "for hand in hands:\n",
    "    print_hand(hand)"
   ]
  },
  {
   "cell_type": "code",
   "execution_count": 44,
   "metadata": {},
   "outputs": [
    {
     "name": "stdout",
     "output_type": "stream",
     "text": [
      "[2, 4]\n",
      "[8, 11, 12]\n"
     ]
    },
    {
     "data": {
      "text/plain": [
       "(1, 3)"
      ]
     },
     "execution_count": 44,
     "metadata": {},
     "output_type": "execute_result"
    }
   ],
   "source": [
    "def compute_distances(hand, current_low, current_high):\n",
    "    suit = current_low // 13\n",
    "    lower_cards = [x for x in hand if x // 13 == suit and x < current_low]\n",
    "    higher_cards = [x for x in hand if x // 13 == suit and x > current_high]\n",
    "    print(lower_cards)\n",
    "    print(higher_cards)\n",
    "    low_distance = (current_low - min(lower_cards) - len(lower_cards)) if len(lower_cards) else -1\n",
    "    high_distance = (max(higher_cards) - current_high - len(higher_cards)) if len(higher_cards) else -1\n",
    "    return low_distance, high_distance\n",
    "\n",
    "compute_distances(sorted(hands[0]), 5, 6)"
   ]
  },
  {
   "cell_type": "code",
   "execution_count": null,
   "metadata": {},
   "outputs": [],
   "source": [
    "def simulate_doms(starting_card):\n",
    "    "
   ]
  }
 ],
 "metadata": {
  "kernelspec": {
   "display_name": "Python 3",
   "language": "python",
   "name": "python3"
  },
  "language_info": {
   "codemirror_mode": {
    "name": "ipython",
    "version": 3
   },
   "file_extension": ".py",
   "mimetype": "text/x-python",
   "name": "python",
   "nbconvert_exporter": "python",
   "pygments_lexer": "ipython3",
   "version": "3.8.3"
  }
 },
 "nbformat": 4,
 "nbformat_minor": 4
}
